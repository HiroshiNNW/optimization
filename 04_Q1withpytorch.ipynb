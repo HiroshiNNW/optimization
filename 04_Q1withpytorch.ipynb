{
 "cells": [
  {
   "cell_type": "code",
   "execution_count": 1,
   "id": "bdd61e24-fcbc-4b54-94a0-fb8c8a0708f4",
   "metadata": {},
   "outputs": [],
   "source": [
    "import torch \n",
    "import torch.nn as nn\n",
    "import torch.optim as optim\n",
    "import numpy as np\n",
    "import matplotlib.pyplot as plt"
   ]
  },
  {
   "cell_type": "code",
   "execution_count": 2,
   "id": "caaf2cc9-32f2-4a47-8abc-2e2d4027185e",
   "metadata": {},
   "outputs": [],
   "source": [
    "class MyProblem():\n",
    "    def __init__(self):\n",
    "        super().__init__()\n",
    "        self.cost = 0\n",
    "        self.deflection = 0\n",
    "        self.g1 = 0\n",
    "        self.g2 = 0\n",
    "        self.g3 = 0\n",
    "        self.g4 = 0\n",
    "        \n",
    "        self.tau_dash = 0\n",
    "        self.tau_dash2 = 0\n",
    "        self.tau = 0\n",
    "        self.sigma = 0\n",
    "        self.pc = 0\n",
    "    \n",
    "    def evaluate(self, x): \n",
    "        #x:parameters\n",
    "        \n",
    "        self.cost = 1.10471 * x[0]**2 * x[1] + 0.04811*x[2]*x[3]*(14.0+x[1])\n",
    "        self.deflection = 2.1952/ x[2]**3 / x[3]\n",
    "        \n",
    "        self.tau_dash = 6000/torch.sqrt(torch.tensor(2.0))/x[0]/x[1]\n",
    "        self.tau_dash2 = 6000*(14+0.5*x[1])*torch.sqrt(0.25*(x[1]**2+(x[0]+x[2])**2))  /  (2*0.707*x[0]*x[1]*(x[1]**2/12+0.25*(x[1]**2+(x[0]+x[2])**2)))\n",
    "        self.tau =torch.sqrt(self.tau_dash**2 + self.tau_dash2**2 + x[1]*self.tau_dash*self.tau_dash2 / torch.sqrt(0.25*(x[1]**2+(x[0]+x[2])**2)))\n",
    "        \n",
    "        self.sigma = 504000/x[2]**2/x[3]\n",
    "        self.pc = 64764.022*(1-0.0282346*x[2])*x[2]*x[3]**3\n",
    "        \n",
    "        self.g1 = self.tau-13600\n",
    "        self.g2 = self.sigma-30000\n",
    "        self.g3 = x[0]-x[3]\n",
    "        self.g4 = 6000-self.pc\n",
    "        \n",
    "    \n",
    "    def calc_loss(self, w):\n",
    "        #w:weight\n",
    "        return w*self.cost + (1-w)*self.deflection*1000 #だいたいオーダーをそろえるために1000倍した\n",
    "    \n",
    "    def print_f1(self):\n",
    "        print(self.f1)"
   ]
  },
  {
   "cell_type": "code",
   "execution_count": 3,
   "id": "dc793a59-2a64-4c73-a3b9-659eebb3d11f",
   "metadata": {},
   "outputs": [],
   "source": [
    "problem = MyProblem()"
   ]
  },
  {
   "cell_type": "markdown",
   "id": "ef11d5b7-4daf-48af-9ef3-aac60e9bd44c",
   "metadata": {
    "tags": []
   },
   "source": [
    "## Adamによる最適化"
   ]
  },
  {
   "cell_type": "code",
   "execution_count": 4,
   "id": "d16bcab0-e546-41ec-ae03-adf1800852a0",
   "metadata": {},
   "outputs": [],
   "source": [
    "lower = np.array([0.125,0.1,0,0]) #lower\n",
    "upper = np.array([10,10,10,5]) #upper"
   ]
  },
  {
   "cell_type": "code",
   "execution_count": 5,
   "id": "8d9c25c0-2a63-4396-b3b6-1422fba89e93",
   "metadata": {},
   "outputs": [
    {
     "name": "stdout",
     "output_type": "stream",
     "text": [
      "0.01 [ 0.125  0.1   10.     5.   ]\n",
      "0.02 [ 0.125      0.1       10.         3.9820623]\n",
      "0.03 [ 0.125      0.1       10.         3.2347088]\n",
      "0.04 [ 0.125      0.1       10.         2.7868624]\n",
      "0.05 [ 0.125      0.1       10.         2.4796288]\n",
      "0.060000000000000005 [ 0.125     0.1      10.        2.251636]\n",
      "0.07 [ 0.125      0.1       10.         2.0734918]\n",
      "0.08 [ 0.125      0.1       10.         1.9291178]\n",
      "0.09 [ 0.125     0.1      10.        1.808878]\n",
      "0.09999999999999999 [ 0.125      0.1       10.         1.7065973]\n",
      "0.10999999999999999 [ 0.125      0.1       10.         1.6181116]\n",
      "0.11999999999999998 [ 0.125      0.1       10.         1.5404959]\n",
      "0.12999999999999998 [ 0.125      0.1       10.         1.4716271]\n",
      "0.13999999999999999 [ 0.125      0.1       10.         1.4099219]\n",
      "0.15 [ 0.125      0.1       10.         1.3541714]\n",
      "0.16 [ 0.125      0.1       10.         1.3034353]\n",
      "0.17 [ 0.125      0.1       10.         1.2569685]\n",
      "0.18000000000000002 [ 0.125      0.1       10.         1.2141727]\n",
      "0.19000000000000003 [ 0.125      0.1       10.         1.1745608]\n",
      "0.20000000000000004 [ 0.125      0.1       10.         1.1377316]\n",
      "0.21000000000000005 [ 0.125      0.1       10.         1.1033511]\n",
      "0.22000000000000006 [ 0.125      0.1       10.         1.0711389]\n",
      "0.23000000000000007 [ 0.125      0.1       10.         1.0408574]\n",
      "0.24000000000000007 [ 0.125      0.1       10.         1.0123041]\n",
      "0.25000000000000006 [ 0.125      0.1       10.         0.9853045]\n",
      "0.26000000000000006 [ 0.125       0.1        10.          0.95970774]\n",
      "0.2700000000000001 [ 0.125      0.1       10.         0.9353827]\n",
      "0.2800000000000001 [ 0.125       0.1        10.          0.91221464]\n",
      "0.2900000000000001 [ 0.125      0.1       10.         0.8901024]\n",
      "0.3000000000000001 [ 0.125       0.1        10.          0.86895686]\n",
      "0.3100000000000001 [ 0.125      0.1       10.         0.8486986]\n",
      "0.3200000000000001 [ 0.125       0.1        10.          0.82925725]\n",
      "0.3300000000000001 [ 0.125       0.1        10.          0.81056947]\n",
      "0.34000000000000014 [ 0.125      0.1       10.         0.7925786]\n",
      "0.35000000000000014 [ 0.125      0.1       10.         0.7752334]\n",
      "0.36000000000000015 [ 0.125      0.1       10.         0.7584877]\n",
      "0.37000000000000016 [ 0.125       0.1        10.          0.74229956]\n",
      "0.38000000000000017 [ 0.125      0.1       10.         0.7266309]\n",
      "0.3900000000000002 [ 0.125      0.1       10.         0.7114468]\n",
      "0.4000000000000002 [ 0.125      0.1       10.         0.6967155]\n",
      "0.4100000000000002 [ 0.125      0.1       10.         0.6824077]\n",
      "0.4200000000000002 [ 0.125       0.1        10.          0.66849655]\n",
      "0.4300000000000002 [ 0.125       0.1        10.          0.65495723]\n",
      "0.4400000000000002 [ 0.125      0.1       10.         0.6417672]\n",
      "0.45000000000000023 [ 0.125      0.1       10.         0.6289048]\n",
      "0.46000000000000024 [ 0.125       0.1        10.          0.61635053]\n",
      "0.47000000000000025 [ 0.125       0.1        10.          0.60408604]\n",
      "0.48000000000000026 [ 0.125      0.1       10.         0.5920943]\n",
      "0.49000000000000027 [ 0.125       0.1        10.          0.58035916]\n",
      "0.5000000000000002 [ 0.125       0.1        10.          0.56886595]\n",
      "0.5100000000000002 [ 0.125     0.1      10.        0.557614]\n",
      "0.5200000000000002 [ 0.125      0.1       10.         0.5465486]\n",
      "0.5300000000000002 [ 0.125     0.1      10.        0.535699]\n",
      "0.5400000000000003 [ 0.125       0.1        10.          0.52504003]\n",
      "0.5500000000000003 [ 0.125       0.1        10.          0.51455843]\n",
      "0.5600000000000003 [ 0.125       0.1        10.          0.50424564]\n",
      "0.5700000000000003 [ 0.125       0.1        10.          0.49409065]\n",
      "0.5800000000000003 [ 0.125       0.1        10.          0.48408368]\n",
      "0.5900000000000003 [ 0.125       0.1        10.          0.47421557]\n",
      "0.6000000000000003 [ 0.125      0.1       10.         0.4644773]\n",
      "0.6100000000000003 [ 0.125      0.1       10.         0.4548594]\n",
      "0.6200000000000003 [ 0.125      0.1       10.         0.4453544]\n",
      "0.6300000000000003 [ 0.125       0.1        10.          0.43595374]\n",
      "0.6400000000000003 [ 0.125       0.1        10.          0.42664933]\n",
      "0.6500000000000004 [ 0.125       0.1        10.          0.41743338]\n",
      "0.6600000000000004 [ 0.125       0.1        10.          0.40829805]\n",
      "0.6700000000000004 [ 0.125      0.1       10.         0.3992357]\n",
      "0.6800000000000004 [ 0.125      0.1       10.         0.3902387]\n",
      "0.6900000000000004 [ 0.125      0.1       10.         0.3812994]\n",
      "0.7000000000000004 [ 0.125      0.1       10.         0.3724101]\n",
      "0.7100000000000004 [ 0.125       0.1        10.          0.36356297]\n",
      "0.7200000000000004 [ 0.125       0.1        10.          0.35475785]\n",
      "0.7300000000000004 [ 0.125       0.1        10.          0.34596348]\n",
      "0.7400000000000004 [ 0.125       0.1        10.          0.33719468]\n",
      "0.7500000000000004 [ 0.125       0.1        10.          0.32843432]\n",
      "0.7600000000000005 [ 0.125       0.1        10.          0.31967497]\n",
      "0.7700000000000005 [ 0.125       0.1        10.          0.31090614]\n",
      "0.7800000000000005 [ 0.125       0.1        10.          0.30211616]\n",
      "0.7900000000000005 [ 0.125       0.1        10.          0.29327115]\n",
      "0.8000000000000005 [ 0.125       0.1        10.          0.28443217]\n",
      "0.8100000000000005 [ 0.125       0.1        10.          0.27551427]\n",
      "0.8200000000000005 [ 0.125       0.1        10.          0.26652572]\n",
      "0.8300000000000005 [ 0.125       0.1        10.          0.25745255]\n",
      "0.8400000000000005 [ 0.125       0.1        10.          0.24827339]\n",
      "0.8500000000000005 [ 0.125       0.1        10.          0.23897143]\n",
      "0.8600000000000005 [ 0.125       0.1        10.          0.22952215]\n",
      "0.8700000000000006 [ 0.125       0.1        10.          0.21989827]\n",
      "0.8800000000000006 [ 0.125       0.1        10.          0.21006761]\n",
      "0.8900000000000006 [ 0.125       0.1        10.          0.19999133]\n",
      "0.9000000000000006 [ 0.125       0.1        10.          0.18962193]\n",
      "0.9100000000000006 [ 0.125       0.1        10.          0.17893577]\n",
      "0.9200000000000006 [ 0.125       0.1        10.          0.16774938]\n",
      "0.9300000000000006 [ 0.125       0.1        10.          0.15606923]\n",
      "0.9400000000000006 [ 0.125       0.1        10.          0.14372194]\n",
      "0.9500000000000006 [ 0.125       0.1        10.          0.13050675]\n",
      "0.9600000000000006 [ 0.125       0.1        10.          0.11611924]\n",
      "0.9700000000000006 [ 0.125       0.1        10.          0.10004251]\n",
      "0.9800000000000006 [ 0.125       0.1        10.          0.08126667]\n",
      "0.9900000000000007 [ 0.125       0.1        10.          0.05717389]\n",
      "1.0000000000000007 [nan nan nan nan]\n"
     ]
    }
   ],
   "source": [
    "losses = []\n",
    "#weights = [0.1, 0.2, 0.3, 0.4, 0.5]\n",
    "costs = []\n",
    "deflections = []\n",
    "x_es = np.zeros(4)\n",
    "\n",
    "w = 0.01\n",
    "\n",
    "for n in range(100):\n",
    "    problem = MyProblem()\n",
    "    x = torch.tensor([1.0,1.0,1.0,1.0], requires_grad=True, device='cuda')\n",
    "    optimizer = optim.Adam([x])\n",
    "    loss_n  =[]\n",
    "    \n",
    "    for i in range(30000):\n",
    "        optimizer.zero_grad()\n",
    "        problem.evaluate(x)\n",
    "        loss = problem.calc_loss(w)\n",
    "        loss.backward()\n",
    "        optimizer.step()\n",
    "        loss_n.append(loss)\n",
    "    \n",
    "        with torch.no_grad(): #不等式制約\n",
    "            for j in range(len(lower)):\n",
    "                x[j].clamp_(lower[j],upper[j])\n",
    "\n",
    "    costs.append(problem.cost.to('cpu').detach().numpy().copy())\n",
    "    deflections.append(problem.deflection.to('cpu').detach().numpy().copy())\n",
    "    losses.append(loss_n)\n",
    "    x_np = x.to('cpu').detach().numpy().copy()\n",
    "    x_es = np.vstack([x_es,x_np])\n",
    "        \n",
    "    print(w, x_np)\n",
    "    \n",
    "    w = w + 0.01"
   ]
  },
  {
   "cell_type": "code",
   "execution_count": 12,
   "id": "145b7250-c066-4cfa-88a0-246805c58942",
   "metadata": {},
   "outputs": [
    {
     "data": {
      "text/plain": [
       "<matplotlib.collections.PathCollection at 0x7f8e0e9a3bb0>"
      ]
     },
     "execution_count": 12,
     "metadata": {},
     "output_type": "execute_result"
    },
    {
     "data": {
      "image/png": "[encoded data removed]",
      "text/plain": [
       "<Figure size 1080x576 with 1 Axes>"
      ]
     },
     "metadata": {
      "needs_background": "light"
     },
     "output_type": "display_data"
    }
   ],
   "source": [
    "plt.figure(figsize=(15,8))\n",
    "plt.scatter(costs,deflections)"
   ]
  },
  {
   "cell_type": "code",
   "execution_count": 19,
   "id": "e6df29c0-0453-490b-a7b7-43af1d17144f",
   "metadata": {},
   "outputs": [
    {
     "data": {
      "text/plain": [
       "[<matplotlib.lines.Line2D at 0x7f8df59814c0>]"
      ]
     },
     "execution_count": 19,
     "metadata": {},
     "output_type": "execute_result"
    },
    {
     "data": {
      "image/png": "[encoded data removed]",
      "text/plain": [
       "<Figure size 432x288 with 1 Axes>"
      ]
     },
     "metadata": {
      "needs_background": "light"
     },
     "output_type": "display_data"
    }
   ],
   "source": [
    "plt.plot(losses[0])"
   ]
  },
  {
   "cell_type": "code",
   "execution_count": 21,
   "id": "770a0e68-7dea-4ffe-8aea-1a2bba042b68",
   "metadata": {},
   "outputs": [
    {
     "data": {
      "text/plain": [
       "(101, 4)"
      ]
     },
     "execution_count": 21,
     "metadata": {},
     "output_type": "execute_result"
    }
   ],
   "source": [
    "x_es.shape"
   ]
  },
  {
   "cell_type": "code",
   "execution_count": null,
   "id": "5aee4b79-8505-4a8d-86ed-247a93527079",
   "metadata": {},
   "outputs": [],
   "source": [
    "import matplotlib.pyplot as plt\n",
    "xl, xu = problem.bounds()\n",
    "fig = plt.figure(figsize=(15, 10))\n",
    "\n",
    "ax1 = fig.add_subplot(2, 2, 1)\n",
    "ax2 = fig.add_subplot(2, 2, 2)\n",
    "ax3 = fig.add_subplot(2, 2, 3)\n",
    "ax4 = fig.add_subplot(2, 2, 4)\n",
    "\n",
    "ax1.scatter(e_es[:, 0], X[:, 1], s=30, facecolors='none', edgecolors='r')\n",
    "ax1.set_xlim(xl[0], 10)\n",
    "ax1.set_ylim(xl[1], 100)\n",
    "ax1.set_title(\"Design Space 1-2\")\n",
    "\n",
    "ax2.scatter(X[:, 1], X[:, 2], s=30, facecolors='none', edgecolors='r')\n",
    "ax2.set_xlim(xl[1], 100)\n",
    "ax2.set_ylim(xl[2], xu[2])\n",
    "ax2.set_title(\"Design Space 2-3\")\n",
    "\n",
    "ax3.scatter(X[:, 2], X[:, 3], s=30, facecolors='none', edgecolors='r')\n",
    "ax3.set_xlim(xl[2], xu[2])\n",
    "ax3.set_ylim(xl[3], xu[3])\n",
    "ax3.set_title(\"Design Space 3-4\")\n",
    "\n",
    "ax4.scatter(X[:, 3], X[:, 0], s=30, facecolors='none', edgecolors='r')\n",
    "ax4.set_xlim(xl[3], xu[3])\n",
    "ax4.set_ylim(xl[0], 10)\n",
    "ax4.set_title(\"Design Space 4-1\")\n",
    "\n",
    "fig.show()\n"
   ]
  }
 ],
 "metadata": {
  "kernelspec": {
   "display_name": "Python 3 (ipykernel)",
   "language": "python",
   "name": "python3"
  },
  "language_info": {
   "codemirror_mode": {
    "name": "ipython",
    "version": 3
   },
   "file_extension": ".py",
   "mimetype": "text/x-python",
   "name": "python",
   "nbconvert_exporter": "python",
   "pygments_lexer": "ipython3",
   "version": "3.8.8"
  }
 },
 "nbformat": 4,
 "nbformat_minor": 5
}
