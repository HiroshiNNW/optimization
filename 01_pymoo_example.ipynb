{
 "cells": [
  {
   "cell_type": "code",
   "execution_count": 1,
   "id": "aaa0da07-99e4-42d3-8916-545dafabd0a6",
   "metadata": {},
   "outputs": [],
   "source": [
    "import numpy as np\n",
    "import matplotlib.pyplot as plt\n",
    "import torch"
   ]
  },
  {
   "cell_type": "code",
   "execution_count": 2,
   "id": "ce2ab3bc-ab54-4b1b-aecf-6e883733635d",
   "metadata": {},
   "outputs": [
    {
     "data": {
      "text/plain": [
       "True"
      ]
     },
     "execution_count": 2,
     "metadata": {},
     "output_type": "execute_result"
    }
   ],
   "source": [
    "torch.cuda.is_available()"
   ]
  },
  {
   "cell_type": "code",
   "execution_count": 3,
   "id": "f8d97112-98f4-428b-a18d-39f862a33e0b",
   "metadata": {},
   "outputs": [],
   "source": [
    "from pymoo.core.problem import ElementwiseProblem"
   ]
  },
  {
   "cell_type": "code",
   "execution_count": 4,
   "id": "2cf12bbe-d4bf-48e7-8dcf-10cb5c733d2a",
   "metadata": {},
   "outputs": [],
   "source": [
    "class MyProblem(ElementwiseProblem):\n",
    "    def __init__(self):\n",
    "        super().__init__(n_var=2, #x is a one-dimensional NumPy array of length n_var=2\n",
    "                         n_obj=2, #number of objectives\n",
    "                         n_constr=2, #number of constraints\n",
    "                         xl=np.array([-2,2]), #lower\n",
    "                         xu=np.array([2,2]) #upper\n",
    "                        )\n",
    "    \n",
    "    def _evaluate(self, x, out, *args, **kwargs): \n",
    "        #x:variable(numpy array), out:output(dictionary). \n",
    "        #out[\"F\"]: numpy array with n_obj length, objective values are written here.\n",
    "        #out[\"G\"]: numpy array with n_constr length, constraints values are written here. \n",
    "        \n",
    "        r = (x[0]**2 + x[1]**2)\n",
    "        \n",
    "        f1 = 100 * r\n",
    "        f2 = (x[0]-1)**2 + x[1]**2\n",
    "        \n",
    "        g1 = 2*(x[0]-0.1) * (x[0]-0.9) / 0.18\n",
    "        g2 = -20*(x[0]-0.4) * (x[0]-0.6) /4.8\n",
    "        \n",
    "        out[\"F\"] = [f1,f2]\n",
    "        out[\"G\"] = [g1,g2]                         "
   ]
  },
  {
   "cell_type": "code",
   "execution_count": 5,
   "id": "f03f5d40-5cd9-4b83-a9ae-fb81bebbed41",
   "metadata": {},
   "outputs": [],
   "source": [
    "problem = MyProblem()"
   ]
  },
  {
   "cell_type": "code",
   "execution_count": 6,
   "id": "59b60544-3f8b-4960-a41b-e42b358b89cf",
   "metadata": {},
   "outputs": [
    {
     "data": {
      "text/plain": [
       "2"
      ]
     },
     "execution_count": 6,
     "metadata": {},
     "output_type": "execute_result"
    }
   ],
   "source": [
    "problem.n_var"
   ]
  },
  {
   "cell_type": "code",
   "execution_count": 7,
   "id": "cc9cb34d-56c1-49a2-8cf9-52b20d866258",
   "metadata": {},
   "outputs": [],
   "source": [
    "from pymoo.algorithms.moo.nsga2 import NSGA2\n",
    "from pymoo.factory import get_sampling, get_crossover, get_mutation\n",
    "\n",
    "algorithm = NSGA2(\n",
    "    pop_size=40,\n",
    "    n_offsprings=10,\n",
    "    sampling=get_sampling(\"real_random\"),\n",
    "    crossover=get_crossover(\"real_sbx\", prob=0.9, eta=15),\n",
    "    mutation=get_mutation(\"real_pm\", eta=20),\n",
    "    eliminate_duplicates=True\n",
    ")"
   ]
  },
  {
   "cell_type": "code",
   "execution_count": 8,
   "id": "db9ca726-355a-4ba0-8638-d1fc779876bd",
   "metadata": {},
   "outputs": [],
   "source": [
    "from pymoo.factory import get_termination\n",
    "\n",
    "termination = get_termination(\"n_gen\", 40)"
   ]
  },
  {
   "cell_type": "code",
   "execution_count": 9,
   "id": "523bce51-d937-41eb-802d-216bcc6030c3",
   "metadata": {
    "tags": []
   },
   "outputs": [
    {
     "name": "stdout",
     "output_type": "stream",
     "text": [
      "=====================================================================================\n",
      "n_gen |  n_eval |   cv (min)   |   cv (avg)   |  n_nds  |     eps      |  indicator  \n",
      "=====================================================================================\n",
      "    1 |      40 |  0.00000E+00 |  2.36399E+01 |       1 |            - |            -\n",
      "    2 |      50 |  0.00000E+00 |  1.15477E+01 |       2 |  2.370587431 |        ideal\n",
      "    3 |      60 |  0.00000E+00 |  5.285864685 |       2 |  0.00000E+00 |            f\n",
      "    4 |      70 |  0.00000E+00 |  2.023871174 |       3 |  0.003509239 |        ideal\n",
      "    5 |      80 |  0.00000E+00 |  0.454393886 |       6 |  0.058670582 |            f\n",
      "    6 |      90 |  0.00000E+00 |  0.064764496 |       6 |  0.00000E+00 |            f\n",
      "    7 |     100 |  0.00000E+00 |  0.001883165 |       7 |  0.000162146 |            f\n",
      "    8 |     110 |  0.00000E+00 |  0.00000E+00 |       9 |  0.036451790 |        ideal\n",
      "    9 |     120 |  0.00000E+00 |  0.00000E+00 |      10 |  0.000493938 |            f\n",
      "   10 |     130 |  0.00000E+00 |  0.00000E+00 |      12 |  0.014066006 |            f\n",
      "   11 |     140 |  0.00000E+00 |  0.00000E+00 |      12 |  0.00000E+00 |            f\n",
      "   12 |     150 |  0.00000E+00 |  0.00000E+00 |      14 |  0.002208032 |            f\n",
      "   13 |     160 |  0.00000E+00 |  0.00000E+00 |      15 |  0.000043139 |            f\n",
      "   14 |     170 |  0.00000E+00 |  0.00000E+00 |      16 |  0.000718587 |            f\n",
      "   15 |     180 |  0.00000E+00 |  0.00000E+00 |      17 |  0.003806318 |            f\n",
      "   16 |     190 |  0.00000E+00 |  0.00000E+00 |      21 |  0.012948102 |        ideal\n",
      "   17 |     200 |  0.00000E+00 |  0.00000E+00 |      26 |  0.001993630 |            f\n",
      "   18 |     210 |  0.00000E+00 |  0.00000E+00 |      28 |  0.000566884 |            f\n",
      "   19 |     220 |  0.00000E+00 |  0.00000E+00 |      31 |  0.001398809 |            f\n",
      "   20 |     230 |  0.00000E+00 |  0.00000E+00 |      33 |  0.005796255 |        ideal\n",
      "   21 |     240 |  0.00000E+00 |  0.00000E+00 |      35 |  0.000132269 |            f\n",
      "   22 |     250 |  0.00000E+00 |  0.00000E+00 |      38 |  0.002001172 |            f\n",
      "   23 |     260 |  0.00000E+00 |  0.00000E+00 |      40 |  0.030017225 |        ideal\n",
      "   24 |     270 |  0.00000E+00 |  0.00000E+00 |      40 |  0.001417433 |            f\n",
      "   25 |     280 |  0.00000E+00 |  0.00000E+00 |      40 |  3.14793E-06 |            f\n",
      "   26 |     290 |  0.00000E+00 |  0.00000E+00 |      40 |  0.001850820 |            f\n",
      "   27 |     300 |  0.00000E+00 |  0.00000E+00 |      40 |  0.000947217 |            f\n",
      "   28 |     310 |  0.00000E+00 |  0.00000E+00 |      40 |  0.000367958 |            f\n",
      "   29 |     320 |  0.00000E+00 |  0.00000E+00 |      40 |  0.001175921 |            f\n",
      "   30 |     330 |  0.00000E+00 |  0.00000E+00 |      40 |  0.000271278 |            f\n",
      "   31 |     340 |  0.00000E+00 |  0.00000E+00 |      40 |  0.00000E+00 |            f\n",
      "   32 |     350 |  0.00000E+00 |  0.00000E+00 |      40 |  0.075591332 |        ideal\n",
      "   33 |     360 |  0.00000E+00 |  0.00000E+00 |      40 |  0.003386135 |            f\n",
      "   34 |     370 |  0.00000E+00 |  0.00000E+00 |      40 |  0.000929194 |            f\n",
      "   35 |     380 |  0.00000E+00 |  0.00000E+00 |      40 |  0.000363059 |            f\n",
      "   36 |     390 |  0.00000E+00 |  0.00000E+00 |      40 |  0.000864194 |            f\n",
      "   37 |     400 |  0.00000E+00 |  0.00000E+00 |      40 |  0.000763631 |            f\n",
      "   38 |     410 |  0.00000E+00 |  0.00000E+00 |      40 |  0.000170122 |            f\n",
      "   39 |     420 |  0.00000E+00 |  0.00000E+00 |      40 |  0.000086030 |            f\n",
      "   40 |     430 |  0.00000E+00 |  0.00000E+00 |      40 |  0.000209913 |            f\n"
     ]
    },
    {
     "name": "stderr",
     "output_type": "stream",
     "text": [
      "/opt/conda/lib/python3.8/site-packages/pymoo/operators/mutation/pm.py:34: RuntimeWarning: divide by zero encountered in true_divide\n",
      "  delta1 = (X - xl) / (xu - xl)\n",
      "/opt/conda/lib/python3.8/site-packages/pymoo/operators/mutation/pm.py:34: RuntimeWarning: invalid value encountered in true_divide\n",
      "  delta1 = (X - xl) / (xu - xl)\n",
      "/opt/conda/lib/python3.8/site-packages/pymoo/operators/mutation/pm.py:35: RuntimeWarning: divide by zero encountered in true_divide\n",
      "  delta2 = (xu - X) / (xu - xl)\n",
      "/opt/conda/lib/python3.8/site-packages/pymoo/operators/mutation/pm.py:35: RuntimeWarning: invalid value encountered in true_divide\n",
      "  delta2 = (xu - X) / (xu - xl)\n",
      "/opt/conda/lib/python3.8/site-packages/pymoo/operators/mutation/pm.py:56: RuntimeWarning: invalid value encountered in multiply\n",
      "  _Y = X + deltaq * (xu - xl)\n",
      "/opt/conda/lib/python3.8/site-packages/pymoo/algorithms/moo/nsga2.py:191: RuntimeWarning: invalid value encountered in subtract\n",
      "  dist = np.row_stack([_F, np.full(n_obj, np.inf)]) - np.row_stack([np.full(n_obj, -np.inf), _F])\n",
      "/opt/conda/lib/python3.8/site-packages/pymoo/algorithms/moo/nsga2.py:194: RuntimeWarning: invalid value encountered in subtract\n",
      "  norm = np.max(_F, axis=0) - np.min(_F, axis=0)\n"
     ]
    }
   ],
   "source": [
    "from pymoo.optimize import minimize\n",
    "\n",
    "res = minimize(problem,\n",
    "               algorithm,\n",
    "               termination,\n",
    "               seed=1,\n",
    "               save_history=True,\n",
    "               verbose=True)\n",
    "\n",
    "X = res.X\n",
    "F = res.F"
   ]
  },
  {
   "cell_type": "code",
   "execution_count": 10,
   "id": "b3cb5886-1f0d-4aa1-acd0-0717064e927c",
   "metadata": {},
   "outputs": [
    {
     "data": {
      "text/plain": [
       "array([[479.52622769,   4.0117127 ],\n",
       "       [402.60563005,   4.70321702],\n",
       "       [436.27168437,   4.15819728],\n",
       "       [415.83200568,   4.362531  ],\n",
       "       [404.16876018,   4.63333676],\n",
       "       [408.42016047,   4.50385135],\n",
       "       [453.98268687,   4.07036864],\n",
       "       [469.22826556,   4.02821216],\n",
       "       [465.1645957 ,   4.03715414],\n",
       "       [449.73096952,   4.08690593],\n",
       "       [446.57584891,   4.10082847],\n",
       "       [475.71818044,   4.01685792],\n",
       "       [456.62543672,   4.06125687],\n",
       "       [409.4701987 ,   4.47922823],\n",
       "       [474.00172561,   4.01953214],\n",
       "       [449.60960975,   4.08741431],\n",
       "       [414.01357723,   4.39144152],\n",
       "       [411.32143844,   4.44026748],\n",
       "       [442.69448535,   4.12012451],\n",
       "       [438.87118964,   4.14177662],\n",
       "       [444.0471715 ,   4.11311085],\n",
       "       [479.06515909,   4.01227976],\n",
       "       [413.17633591,   4.4057789 ],\n",
       "       [412.53212572,   4.41730641],\n",
       "       [460.46627412,   4.04946148],\n",
       "       [445.58732825,   4.10550551],\n",
       "       [408.77751087,   4.49523782],\n",
       "       [411.77917021,   4.43137579],\n",
       "       [440.61638956,   4.13154412],\n",
       "       [454.90903465,   4.06707773],\n",
       "       [410.35705779,   4.45992292],\n",
       "       [471.72707908,   4.02343397],\n",
       "       [441.16353935,   4.12845903],\n",
       "       [458.98999941,   4.05380105],\n",
       "       [463.49414749,   4.04127718],\n",
       "       [410.21616874,   4.46290685],\n",
       "       [471.02386853,   4.02472549],\n",
       "       [414.79159113,   4.37871916],\n",
       "       [462.04321228,   4.04508185],\n",
       "       [438.92964526,   4.14142394]])"
      ]
     },
     "execution_count": 10,
     "metadata": {},
     "output_type": "execute_result"
    }
   ],
   "source": [
    "F"
   ]
  },
  {
   "cell_type": "code",
   "execution_count": 11,
   "id": "0babdd74-9d12-445b-bb20-41d9c4d31137",
   "metadata": {},
   "outputs": [
    {
     "name": "stderr",
     "output_type": "stream",
     "text": [
      "/tmp/ipykernel_141/2261655750.py:6: UserWarning: Attempting to set identical bottom == top == 2.0 results in singular transformations; automatically expanding.\n",
      "  plt.ylim(xl[1], xu[1])\n"
     ]
    },
    {
     "data": {
      "image/png": "[encoded data removed]",
      "text/plain": [
       "<Figure size 504x360 with 1 Axes>"
      ]
     },
     "metadata": {
      "needs_background": "light"
     },
     "output_type": "display_data"
    }
   ],
   "source": [
    "import matplotlib.pyplot as plt\n",
    "xl, xu = problem.bounds()\n",
    "plt.figure(figsize=(7, 5))\n",
    "plt.scatter(X[:, 0], X[:, 1], s=30, facecolors='none', edgecolors='r')\n",
    "plt.xlim(xl[0], xu[0])\n",
    "plt.ylim(xl[1], xu[1])\n",
    "plt.title(\"Design Space\")\n",
    "plt.show()"
   ]
  },
  {
   "cell_type": "code",
   "execution_count": 12,
   "id": "1986edf2-1c9b-4a82-b251-34cc651d362a",
   "metadata": {},
   "outputs": [
    {
     "name": "stderr",
     "output_type": "stream",
     "text": [
      "/tmp/ipykernel_141/975649869.py:4: UserWarning: Attempting to set identical bottom == top == 2.0 results in singular transformations; automatically expanding.\n",
      "  plt.ylim(xl[1], xu[1])\n"
     ]
    },
    {
     "data": {
      "image/png": "[encoded data removed]",
      "text/plain": [
       "<Figure size 504x360 with 1 Axes>"
      ]
     },
     "metadata": {
      "needs_background": "light"
     },
     "output_type": "display_data"
    }
   ],
   "source": [
    "plt.figure(figsize=(7, 5))\n",
    "plt.scatter(X[:, 0], X[:, 1], s=30, facecolors='none', edgecolors='r')\n",
    "plt.xlim(0,1)\n",
    "plt.ylim(xl[1], xu[1])\n",
    "plt.title(\"Design Space\")\n",
    "plt.show()"
   ]
  },
  {
   "cell_type": "code",
   "execution_count": 13,
   "id": "f1dbd89d-acff-477d-aa64-5f250ff8396d",
   "metadata": {},
   "outputs": [
    {
     "data": {
      "image/png": "[encoded data removed]",
      "text/plain": [
       "<Figure size 504x360 with 1 Axes>"
      ]
     },
     "metadata": {
      "needs_background": "light"
     },
     "output_type": "display_data"
    }
   ],
   "source": [
    "plt.figure(figsize=(7, 5))\n",
    "plt.scatter(F[:, 0], F[:, 1], s=30, facecolors='none', edgecolors='blue')\n",
    "plt.title(\"Objective Space\")\n",
    "plt.show()"
   ]
  },
  {
   "cell_type": "code",
   "execution_count": null,
   "id": "fd88ca1d-f7ea-4dbe-809e-7dbfa248816a",
   "metadata": {},
   "outputs": [],
   "source": []
  },
  {
   "cell_type": "code",
   "execution_count": null,
   "id": "e836b77e-223a-44a2-912d-f304cf54ad01",
   "metadata": {},
   "outputs": [],
   "source": []
  },
  {
   "cell_type": "markdown",
   "id": "247598e3-2c7d-421c-a84a-1ee07bdf4f1c",
   "metadata": {},
   "source": [
    "## decision making"
   ]
  },
  {
   "cell_type": "code",
   "execution_count": 14,
   "id": "75aa7238-bb67-4e18-8404-be04a927c033",
   "metadata": {},
   "outputs": [
    {
     "name": "stdout",
     "output_type": "stream",
     "text": [
      "Scale f1: [402.6056300475168, 479.5262276935877]\n",
      "Scale f2: [4.01171269597562, 4.703217018632526]\n"
     ]
    }
   ],
   "source": [
    "fl = F.min(axis=0)\n",
    "fu = F.max(axis=0)\n",
    "print(f\"Scale f1: [{fl[0]}, {fu[0]}]\")\n",
    "print(f\"Scale f2: [{fl[1]}, {fu[1]}]\")"
   ]
  },
  {
   "cell_type": "code",
   "execution_count": 15,
   "id": "1c715265-d60d-436b-b988-0d780e98a57d",
   "metadata": {},
   "outputs": [],
   "source": [
    "approx_ideal = F.min(axis=0)\n",
    "approx_nadir = F.max(axis=0)"
   ]
  },
  {
   "cell_type": "code",
   "execution_count": 16,
   "id": "df6e477d-de5b-4893-87a4-76be2a97ee09",
   "metadata": {},
   "outputs": [
    {
     "data": {
      "image/png": "[encoded data removed]",
      "text/plain": [
       "<Figure size 504x360 with 1 Axes>"
      ]
     },
     "metadata": {
      "needs_background": "light"
     },
     "output_type": "display_data"
    }
   ],
   "source": [
    "plt.figure(figsize=(7, 5))\n",
    "plt.scatter(F[:, 0], F[:, 1], s=30, facecolors='none', edgecolors='blue')\n",
    "plt.scatter(approx_ideal[0], approx_ideal[1], facecolors='none', edgecolors='red', marker=\"*\", s=100, label=\"Ideal Point (Approx)\")\n",
    "plt.scatter(approx_nadir[0], approx_nadir[1], facecolors='none', edgecolors='black', marker=\"p\", s=100, label=\"Nadir Point (Approx)\")\n",
    "plt.title(\"Objective Space\")\n",
    "plt.legend()\n",
    "plt.show()"
   ]
  },
  {
   "cell_type": "code",
   "execution_count": 17,
   "id": "bcff50a8-7ba7-43bc-8d86-6d5bf43e1dde",
   "metadata": {},
   "outputs": [
    {
     "name": "stdout",
     "output_type": "stream",
     "text": [
      "Scale f1: [0.0, 1.0]\n",
      "Scale f2: [0.0, 1.0]\n"
     ]
    },
    {
     "data": {
      "image/png": "[encoded data removed]",
      "text/plain": [
       "<Figure size 504x360 with 1 Axes>"
      ]
     },
     "metadata": {
      "needs_background": "light"
     },
     "output_type": "display_data"
    }
   ],
   "source": [
    "#normalization\n",
    "\n",
    "nF = (F - approx_ideal) / (approx_nadir - approx_ideal)\n",
    "\n",
    "fl = nF.min(axis=0)\n",
    "fu = nF.max(axis=0)\n",
    "print(f\"Scale f1: [{fl[0]}, {fu[0]}]\")\n",
    "print(f\"Scale f2: [{fl[1]}, {fu[1]}]\")\n",
    "\n",
    "plt.figure(figsize=(7, 5))\n",
    "plt.scatter(nF[:, 0], nF[:, 1], s=30, facecolors='none', edgecolors='blue')\n",
    "plt.title(\"Objective Space\")\n",
    "plt.show()"
   ]
  },
  {
   "cell_type": "code",
   "execution_count": 18,
   "id": "05cc1f12-2e55-4be2-b25c-4d1711dab4ea",
   "metadata": {},
   "outputs": [],
   "source": [
    "weights = np.array([0.2, 0.8])"
   ]
  },
  {
   "cell_type": "code",
   "execution_count": 19,
   "id": "860ad610-6a64-4426-a6c7-c63943373caa",
   "metadata": {},
   "outputs": [],
   "source": [
    "from pymoo.decomposition.asf import ASF\n",
    "\n",
    "decomp = ASF() #Augmented Scalarization Function (ASF)"
   ]
  },
  {
   "cell_type": "code",
   "execution_count": 20,
   "id": "97e942e3-f80c-476e-a468-1ca215b2a7f3",
   "metadata": {},
   "outputs": [],
   "source": [
    "i = decomp.do(nF, 1/weights).argmin()"
   ]
  },
  {
   "cell_type": "code",
   "execution_count": 21,
   "id": "3e8b57c4-b8ff-4b88-98ff-c68c7d2f2a7e",
   "metadata": {},
   "outputs": [
    {
     "data": {
      "text/plain": [
       "25"
      ]
     },
     "execution_count": 21,
     "metadata": {},
     "output_type": "execute_result"
    }
   ],
   "source": [
    "i"
   ]
  },
  {
   "cell_type": "code",
   "execution_count": 22,
   "id": "8d3bf144-fb4b-485b-8646-96c9b2a58cad",
   "metadata": {},
   "outputs": [
    {
     "name": "stdout",
     "output_type": "stream",
     "text": [
      "Best regarding ASF: Point \n",
      "i = 25\n",
      "F = [445.58732825   4.10550551]\n"
     ]
    },
    {
     "data": {
      "image/png": "[encoded data removed]",
      "text/plain": [
       "<Figure size 504x360 with 1 Axes>"
      ]
     },
     "metadata": {
      "needs_background": "light"
     },
     "output_type": "display_data"
    }
   ],
   "source": [
    "print(\"Best regarding ASF: Point \\ni = %s\\nF = %s\" % (i, F[i]))\n",
    "\n",
    "plt.figure(figsize=(7, 5))\n",
    "plt.scatter(F[:, 0], F[:, 1], s=30, facecolors='none', edgecolors='blue')\n",
    "plt.scatter(F[i, 0], F[i, 1], marker=\"x\", color=\"red\", s=200)\n",
    "plt.title(\"Objective Space\")\n",
    "plt.show()"
   ]
  },
  {
   "cell_type": "code",
   "execution_count": 23,
   "id": "0086c327-4938-40bb-8a74-98497bef9f87",
   "metadata": {},
   "outputs": [
    {
     "data": {
      "text/plain": [
       "[0.675183887929685, 2.0]"
      ]
     },
     "execution_count": 23,
     "metadata": {},
     "output_type": "execute_result"
    }
   ],
   "source": [
    "x_res = [0,0]\n",
    "x_res[0], x_res[1] = X[25]\n",
    "x_res"
   ]
  },
  {
   "cell_type": "code",
   "execution_count": 24,
   "id": "13e30efb-0335-40c8-9271-9598232a99c1",
   "metadata": {},
   "outputs": [],
   "source": [
    "f1 = 100 * (x_res[0]**2 + x_res[1]**2)\n",
    "f2 = (x_res[0]-1)**2 + x_res[1]**2"
   ]
  },
  {
   "cell_type": "code",
   "execution_count": 25,
   "id": "dc576272-b890-40e2-be23-04f0b6b99123",
   "metadata": {},
   "outputs": [
    {
     "data": {
      "text/plain": [
       "(445.5873282519845, 4.105505506660475)"
      ]
     },
     "execution_count": 25,
     "metadata": {},
     "output_type": "execute_result"
    }
   ],
   "source": [
    "f1, f2"
   ]
  },
  {
   "cell_type": "code",
   "execution_count": null,
   "id": "78e02884-d620-47f6-8c89-af16bcdb58f5",
   "metadata": {},
   "outputs": [],
   "source": []
  },
  {
   "cell_type": "markdown",
   "id": "3a743306-8766-4079-b234-23155a195a31",
   "metadata": {},
   "source": [
    "## MOEA/D"
   ]
  },
  {
   "cell_type": "code",
   "execution_count": 29,
   "id": "f995ff65-1fc4-4c9c-b20d-12967f3dabfa",
   "metadata": {},
   "outputs": [
    {
     "name": "stderr",
     "output_type": "stream",
     "text": [
      "/opt/conda/lib/python3.8/site-packages/pymoo/operators/crossover/sbx.py:46: RuntimeWarning: invalid value encountered in power\n",
      "  betaq[mask_not] = np.power((1.0 / (2.0 - rand * alpha)), (1.0 / (self.eta + 1.0)))[mask_not]\n"
     ]
    },
    {
     "data": {
      "text/plain": [
       "<pymoo.visualization.scatter.Scatter at 0x7f602b3cc640>"
      ]
     },
     "execution_count": 29,
     "metadata": {},
     "output_type": "execute_result"
    },
    {
     "data": {
      "image/png": "[encoded data removed]",
      "text/plain": [
       "<Figure size 576x432 with 1 Axes>"
      ]
     },
     "metadata": {
      "needs_background": "light"
     },
     "output_type": "display_data"
    }
   ],
   "source": [
    "from pymoo.algorithms.moo.ctaea import CTAEA\n",
    "from pymoo.factory import get_problem, get_reference_directions\n",
    "from pymoo.optimize import minimize\n",
    "from pymoo.visualization.scatter import Scatter\n",
    "\n",
    "#problem = get_problem(\"c1dtlz1\", None, 3, k=5)\n",
    "\n",
    "ref_dirs = get_reference_directions(\"das-dennis\", 2, n_partitions=12)\n",
    "\n",
    "# create the algorithm object\n",
    "algorithm = CTAEA(ref_dirs=ref_dirs)\n",
    "\n",
    "# execute the optimization\n",
    "res = minimize(problem,\n",
    "               algorithm,\n",
    "               ('n_gen', 600),\n",
    "               seed=1\n",
    "               )\n",
    "\n",
    "sc = Scatter(legend=False, angle=(45, 30))\n",
    "sc.add(problem.pareto_front(ref_dirs), plot_type='surface', alpha=0.2, label=\"PF\", color=\"blue\")\n",
    "sc.add(res.F, color=\"red\")\n",
    "sc.show()"
   ]
  }
 ],
 "metadata": {
  "kernelspec": {
   "display_name": "Python 3 (ipykernel)",
   "language": "python",
   "name": "python3"
  },
  "language_info": {
   "codemirror_mode": {
    "name": "ipython",
    "version": 3
   },
   "file_extension": ".py",
   "mimetype": "text/x-python",
   "name": "python",
   "nbconvert_exporter": "python",
   "pygments_lexer": "ipython3",
   "version": "3.8.8"
  }
 },
 "nbformat": 4,
 "nbformat_minor": 5
}
