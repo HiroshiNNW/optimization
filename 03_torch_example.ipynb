{
 "cells": [
  {
   "cell_type": "code",
   "execution_count": 1,
   "id": "6292b364-c629-4e41-a29d-7893c53f0079",
   "metadata": {},
   "outputs": [],
   "source": [
    "import torch \n",
    "import torch.nn as nn\n",
    "import numpy as np\n",
    "import matplotlib.pyplot as plt\n",
    "#from torch.autograd import Variable\n",
    "import torch.optim as optim"
   ]
  },
  {
   "cell_type": "code",
   "execution_count": 2,
   "id": "649f54cc-0c19-4a73-b890-a4abbe3e31b2",
   "metadata": {},
   "outputs": [],
   "source": [
    "N = 200\n",
    "x = np.random.rand(N)*30-15\n",
    "y = 2*x + np.random.randn(N)*5\n",
    " \n",
    "# float32型にしておく\n",
    "x = x.astype(np.float32)\n",
    "y = y.astype(np.float32)"
   ]
  },
  {
   "cell_type": "code",
   "execution_count": 3,
   "id": "9cfff07c-6908-43e3-a988-c3c488c2ac59",
   "metadata": {},
   "outputs": [
    {
     "data": {
      "text/plain": [
       "<matplotlib.collections.PathCollection at 0x7f52a25c0e50>"
      ]
     },
     "execution_count": 3,
     "metadata": {},
     "output_type": "execute_result"
    },
    {
     "data": {
      "image/png": "[encoded data removed]",
      "text/plain": [
       "<Figure size 432x288 with 1 Axes>"
      ]
     },
     "metadata": {
      "needs_background": "light"
     },
     "output_type": "display_data"
    }
   ],
   "source": [
    "plt.scatter(x,y)"
   ]
  },
  {
   "cell_type": "markdown",
   "id": "4bcfe5cf-cf63-4528-ad08-0bc02ca6cead",
   "metadata": {},
   "source": [
    "## 自動微分による最小二乗法"
   ]
  },
  {
   "cell_type": "code",
   "execution_count": 4,
   "id": "bc5bc5c7-40b5-4d7a-8bad-e5a54bba0d8a",
   "metadata": {},
   "outputs": [],
   "source": [
    "x = torch.from_numpy(x)\n",
    "y = torch.from_numpy(y)"
   ]
  },
  {
   "cell_type": "code",
   "execution_count": 5,
   "id": "cfb07410-446b-4cb6-9ad1-9a56254fc91c",
   "metadata": {},
   "outputs": [],
   "source": [
    "w = torch.tensor([1.0,0.0], requires_grad = True)"
   ]
  },
  {
   "cell_type": "code",
   "execution_count": 6,
   "id": "91670126-9fdd-4126-bb7d-56b6f2a0fa43",
   "metadata": {},
   "outputs": [],
   "source": [
    "w.grad"
   ]
  },
  {
   "cell_type": "code",
   "execution_count": 7,
   "id": "e6415b11-d61a-4912-bb71-65a7c7975b9f",
   "metadata": {},
   "outputs": [
    {
     "name": "stdout",
     "output_type": "stream",
     "text": [
      "loss =  26.27545928955078\n",
      "w    =  1.962525725364685\n",
      "b    =  -0.11894846707582474\n"
     ]
    }
   ],
   "source": [
    "lr = 1.0e-4\n",
    " \n",
    "# 変数を初期化します\n",
    "#w = torch.tensor(1.0, requires_grad=True)\n",
    "#b = torch.tensor(0.0, requires_grad=True)\n",
    " \n",
    "losses = []\n",
    "for epoch in range(3000):\n",
    "    # 線形モデルによる値の予測\n",
    "    p = w[0]*x + w[1]\n",
    "    \n",
    "    # 損失値と自動微分\n",
    "    loss = ((p-y)**2).mean()\n",
    "    loss.backward()\n",
    "    \n",
    "    # グラディエントを使って変数`w`と`b`の値を更新する。\n",
    "    with torch.no_grad():\n",
    "        w[0] -= w.grad[0] * lr\n",
    "        w[1] -= w.grad[1] * lr\n",
    "        w.grad.zero_()\n",
    "        \n",
    "    # グラフ描画用\n",
    "    losses.append(loss.item())\n",
    "    \n",
    "print('loss = ', loss.item())\n",
    "print('w    = ', w[0].item())\n",
    "print('b    = ', w[1].item())"
   ]
  },
  {
   "cell_type": "code",
   "execution_count": 8,
   "id": "64b73add-c0d9-40c9-bee4-ab6cdb439c49",
   "metadata": {},
   "outputs": [
    {
     "data": {
      "text/plain": [
       "[<matplotlib.lines.Line2D at 0x7f5299db2520>]"
      ]
     },
     "execution_count": 8,
     "metadata": {},
     "output_type": "execute_result"
    },
    {
     "data": {
      "image/png": "[encoded data removed]",
      "text/plain": [
       "<Figure size 432x288 with 1 Axes>"
      ]
     },
     "metadata": {
      "needs_background": "light"
     },
     "output_type": "display_data"
    }
   ],
   "source": [
    "plt.plot(losses)"
   ]
  },
  {
   "cell_type": "markdown",
   "id": "b18d49d2-2df0-4984-ba3e-2884504a4c9a",
   "metadata": {},
   "source": [
    "## Adamによる最小二乗法"
   ]
  },
  {
   "cell_type": "code",
   "execution_count": 9,
   "id": "62a5cf48-d6a2-4d0a-9717-7bcbb2fb7af0",
   "metadata": {},
   "outputs": [],
   "source": [
    "w = torch.tensor([1.0,0.0], requires_grad = True)"
   ]
  },
  {
   "cell_type": "code",
   "execution_count": 18,
   "id": "bdbd01f0-4af8-4aac-8a65-e28342cafbd5",
   "metadata": {},
   "outputs": [],
   "source": [
    "optimizer = optim.Adam([w])"
   ]
  },
  {
   "cell_type": "code",
   "execution_count": 19,
   "id": "8ca3c733-0bec-4847-af8c-5c96ce094c58",
   "metadata": {
    "tags": []
   },
   "outputs": [
    {
     "name": "stdout",
     "output_type": "stream",
     "text": [
      "tensor([ 1.9000, -0.1758], requires_grad=True) tensor(-0.1758, requires_grad=True)\n"
     ]
    }
   ],
   "source": [
    "losses = []\n",
    "for i in range(2000):\n",
    "    optimizer.zero_grad()\n",
    "    p = w[0]*x+w[1]\n",
    "    loss = ((p-y)**2).mean()\n",
    "    losses.append(loss)\n",
    "    loss.backward()\n",
    "    optimizer.step()\n",
    "    \n",
    "    with torch.no_grad(): #不等式制約の入れ方\n",
    "        #for param in model.parameters():\n",
    "        w[0].clamp_(-1, 1.9)\n",
    "\n",
    "            \n",
    "print(w,b)"
   ]
  },
  {
   "cell_type": "code",
   "execution_count": 20,
   "id": "2dd36ea7-2bb4-4650-8e25-3842b69ba092",
   "metadata": {},
   "outputs": [
    {
     "data": {
      "text/plain": [
       "[<matplotlib.lines.Line2D at 0x7f5299c8a7c0>]"
      ]
     },
     "execution_count": 20,
     "metadata": {},
     "output_type": "execute_result"
    },
    {
     "data": {
      "image/png": "[encoded data removed]",
      "text/plain": [
       "<Figure size 432x288 with 1 Axes>"
      ]
     },
     "metadata": {
      "needs_background": "light"
     },
     "output_type": "display_data"
    }
   ],
   "source": [
    "plt.plot(losses)"
   ]
  },
  {
   "cell_type": "code",
   "execution_count": 22,
   "id": "8fd3cec0-09d7-492d-8153-64764b267f3f",
   "metadata": {},
   "outputs": [
    {
     "data": {
      "text/plain": [
       "[<matplotlib.lines.Line2D at 0x7f5298f2fe50>]"
      ]
     },
     "execution_count": 22,
     "metadata": {},
     "output_type": "execute_result"
    },
    {
     "data": {
      "image/png": "[encoded data removed]",
      "text/plain": [
       "<Figure size 432x288 with 1 Axes>"
      ]
     },
     "metadata": {
      "needs_background": "light"
     },
     "output_type": "display_data"
    }
   ],
   "source": [
    "plt.scatter(x,y)\n",
    "plt.plot(x,w[0].to('cpu').detach().numpy()*x.to('cpu').detach().numpy()+w[1].to('cpu').detach().numpy())"
   ]
  },
  {
   "cell_type": "code",
   "execution_count": 23,
   "id": "7ff1de0a-ad1a-4e17-b700-8c75d970303b",
   "metadata": {},
   "outputs": [],
   "source": [
    "#参考？\n",
    "class tempModel(nn.Module):\n",
    "    def __init__(self, A, x, b):\n",
    "        super().__init__()\n",
    "        weights = x\n",
    "\n",
    "        self.A = A\n",
    "        self.b = b\n",
    "\n",
    "        self.weights = nn.Parameter(torch.Tensor(weights), requires_grad=True)\n",
    "\n",
    "    def forward(self):\n",
    "        ret = torch.matmul(self.A, self.x)\n",
    "        ret += self.b\n",
    "\n",
    "        return ret\n",
    "\n",
    "    def training_loop(model, optimizer, n=100):\n",
    "        loss_fn = nn.MSELoss()\n",
    "        for param in model.parameters():\n",
    "            param.requires_grad_(True)\n",
    "\n",
    "        for i in range(n):\n",
    "            preds = model()\n",
    "            loss = loss_fn(torch.Tensor([preds]), torch.Tensor([0]))\n",
    "            loss.requires_grad_(True)\n",
    "            loss.backward()\n",
    "            optimizer.step()\n",
    "            optimizer.zero_grad()\n",
    "        loss.requires_grad_(False)\n",
    "\n",
    "        for param in model.parameters():\n",
    "            param.requires_grad_(False)\n",
    "            return param.data"
   ]
  }
 ],
 "metadata": {
  "kernelspec": {
   "display_name": "Python 3 (ipykernel)",
   "language": "python",
   "name": "python3"
  },
  "language_info": {
   "codemirror_mode": {
    "name": "ipython",
    "version": 3
   },
   "file_extension": ".py",
   "mimetype": "text/x-python",
   "name": "python",
   "nbconvert_exporter": "python",
   "pygments_lexer": "ipython3",
   "version": "3.8.8"
  }
 },
 "nbformat": 4,
 "nbformat_minor": 5
}
