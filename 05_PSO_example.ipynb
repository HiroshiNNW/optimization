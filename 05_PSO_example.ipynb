{
 "cells": [
  {
   "cell_type": "code",
   "execution_count": 41,
   "id": "abe905e3-5454-405d-8af7-b8909f23ec5c",
   "metadata": {},
   "outputs": [],
   "source": [
    "# -*- coding: utf-8 -*-\n",
    "import numpy as np\n",
    "import random\n",
    "import matplotlib.pyplot as plt\n",
    "\n",
    "#評価関数: z = x^2 + y^2\n",
    "def criterion(x, y):\n",
    "    z = x * x + y * y\n",
    "    return z\n",
    "\n",
    "#粒子の位置の更新を行う関数\n",
    "def update_position(x, y, vx, vy):\n",
    "    new_x = x + vx\n",
    "    new_y = y + vy\n",
    "    return new_x, new_y\n",
    "\n",
    "#粒子の速度の更新を行う関数\n",
    "def update_velocity(x, y, vx, vy, p, g, w=0.5, ro_max=0.14):\n",
    "    #パラメーターroはランダムに与える\n",
    "    ro1 = random.uniform(0, ro_max)\n",
    "    ro2 = random.uniform(0, ro_max)\n",
    "    #粒子速度の更新を行う\n",
    "    new_vx = w * vx + ro1 * (p[\"x\"] - x) + ro2 * (g[\"x\"] - x)\n",
    "    new_vy = w * vy + ro1 * (p[\"y\"] - y) + ro2 * (g[\"y\"] - y)\n",
    "    return new_vx, new_vy\n"
   ]
  },
  {
   "cell_type": "code",
   "execution_count": 42,
   "id": "6de6d09d-518a-4812-bd3f-c951c7301f63",
   "metadata": {},
   "outputs": [],
   "source": [
    "N = 100  #粒子の数\n",
    "x_min, x_max = -10, 10\n",
    "y_min, y_max = -5, 5 "
   ]
  },
  {
   "cell_type": "code",
   "execution_count": 44,
   "id": "4d390aea-1c98-4af0-8d0b-da67cbf0011d",
   "metadata": {},
   "outputs": [],
   "source": [
    "#粒子位置, 速度, パーソナルベスト, グローバルベストの初期化を行う\n",
    "ps = [{\"x\": random.uniform(x_min, x_max), \n",
    "       \"y\": random.uniform(y_min, y_max)} for i in range(N)]\n",
    "vs = [{\"x\": 0.0, \"y\": 0.0} for i in range(N)]\n",
    "\n",
    "personal_best_positions = list(ps)\n",
    "personal_best_scores = [criterion(p[\"x\"], p[\"y\"]) for p in ps]\n",
    "best_particle = np.argmin(personal_best_scores)\n",
    "global_best_position = personal_best_positions[best_particle]\n",
    "\n",
    "T = 100  #制限時間(ループの回数)\n",
    "losses = []\n",
    "\n",
    "for t in range(T):\n",
    "    for n in range(N):\n",
    "        x, y = ps[n][\"x\"], ps[n][\"y\"]\n",
    "        vx, vy = vs[n][\"x\"], vs[n][\"y\"]\n",
    "        p = personal_best_positions[n]\n",
    "            \n",
    "        #粒子の位置の更新を行う\n",
    "        new_x, new_y = update_position(x, y, vx, vy)\n",
    "        ps[n] = {\"x\": new_x, \"y\": new_y}\n",
    "            \n",
    "        #粒子の速度の更新を行う\n",
    "        new_vx, new_vy = update_velocity(\n",
    "            new_x, new_y, vx, vy, p, global_best_position)\n",
    "        vs[n] = {\"x\": new_vx, \"y\": new_vy}\n",
    "            \n",
    "        #評価値を求め, パーソナルベストの更新を行う\n",
    "        score = criterion(new_x, new_y)\n",
    "        if score < personal_best_scores[n]:\n",
    "            personal_best_scores[n] = score\n",
    "            personal_best_positions[n] = {\"x\": new_x, \"y\": new_y}\n",
    "                \n",
    "    #グローバルベストの更新を行う\n",
    "    best_particle = np.argmin(personal_best_scores)\n",
    "    global_best_position = personal_best_positions[best_particle]\n",
    "    \n",
    "    losses.append(personal_best_scores[best_particle])"
   ]
  },
  {
   "cell_type": "code",
   "execution_count": 45,
   "id": "2c5ea35e-b8a9-41a6-a959-4683ce86d757",
   "metadata": {},
   "outputs": [
    {
     "data": {
      "text/plain": [
       "[<matplotlib.lines.Line2D at 0x7f19b5e88f40>]"
      ]
     },
     "execution_count": 45,
     "metadata": {},
     "output_type": "execute_result"
    },
    {
     "data": {
      "image/png": "[encoded data removed]",
      "text/plain": [
       "<Figure size 432x288 with 1 Axes>"
      ]
     },
     "metadata": {
      "needs_background": "light"
     },
     "output_type": "display_data"
    }
   ],
   "source": [
    "plt.plot(losses)"
   ]
  },
  {
   "cell_type": "code",
   "execution_count": 14,
   "id": "4ea2e748-71d9-4d25-a3d2-570a46e2fcc9",
   "metadata": {},
   "outputs": [
    {
     "name": "stdout",
     "output_type": "stream",
     "text": [
      "{'x': -2.5077347778869495e-05, 'y': -0.00012446081421704512}\n",
      "1.6119367647192188e-08\n"
     ]
    }
   ],
   "source": [
    "print(global_best_position)\n",
    "print(min(personal_best_scores))"
   ]
  },
  {
   "cell_type": "code",
   "execution_count": 19,
   "id": "7da87084-ec71-4a37-8065-1f90833f4cc6",
   "metadata": {
    "tags": []
   },
   "outputs": [
    {
     "data": {
      "text/plain": [
       "<matplotlib.image.AxesImage at 0x7f19b6883be0>"
      ]
     },
     "execution_count": 19,
     "metadata": {},
     "output_type": "execute_result"
    },
    {
     "data": {
      "image/png": "[encoded data removed]",
      "text/plain": [
       "<Figure size 432x288 with 1 Axes>"
      ]
     },
     "metadata": {
      "needs_background": "light"
     },
     "output_type": "display_data"
    }
   ],
   "source": [
    "A = np.random.randn(10,10)\n",
    "\n",
    "plt.imshow(A)"
   ]
  },
  {
   "cell_type": "code",
   "execution_count": null,
   "id": "7390f091-f04c-4f58-a00a-05c598eda76c",
   "metadata": {},
   "outputs": [],
   "source": []
  },
  {
   "cell_type": "code",
   "execution_count": null,
   "id": "2bd0a958-17dc-4264-80e7-060ccdcf5844",
   "metadata": {},
   "outputs": [],
   "source": []
  },
  {
   "cell_type": "code",
   "execution_count": null,
   "id": "6a480c6d-891b-4d78-b8bf-dca2b3659e74",
   "metadata": {},
   "outputs": [],
   "source": []
  }
 ],
 "metadata": {
  "kernelspec": {
   "display_name": "Python 3 (ipykernel)",
   "language": "python",
   "name": "python3"
  },
  "language_info": {
   "codemirror_mode": {
    "name": "ipython",
    "version": 3
   },
   "file_extension": ".py",
   "mimetype": "text/x-python",
   "name": "python",
   "nbconvert_exporter": "python",
   "pygments_lexer": "ipython3",
   "version": "3.8.8"
  }
 },
 "nbformat": 4,
 "nbformat_minor": 5
}
